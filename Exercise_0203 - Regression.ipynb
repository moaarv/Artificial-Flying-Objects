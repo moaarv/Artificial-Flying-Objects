{
 "cells": [
  {
   "cell_type": "markdown",
   "metadata": {},
   "source": [
    "<center><h1 style=\"font-size:40px;\">Exercise II: Regression</h1></center>\n",
    "\n",
    "---"
   ]
  },
  {
   "cell_type": "markdown",
   "metadata": {},
   "source": [
    "Now we are going to look at a regression problem. The data as described above (regr1) consists of 6 inputs (features) and one output (target) value. As for previous examples a new data set is generated each time you call the *regr1* function. To get exactly the same data set between different calls, use a fixed seed. New for this problem is that one can also control the amount of noise added to the target value. We are going to use a relatively small training dataset (\\~250) and a larger validation dataset (\\~1000) to get a more robust estimation of the generalization performance. For regression problems we also need new performance measures. The *stats_reg* function will give you two such measures:\n",
    "* MSE = mean squared error (low error mean good performance)\n",
    "* CorrCoeff = Pearson correlation coefficient for the scatter plot between predicted and true values.\n",
    "\n",
    "# Data \n",
    "## regr1\n",
    "There is also a synthetic regression problem, called *regr1*. It has 6 inputs (independent variables) and one output variable (dependent variable). It is generated according to the following formula:  \n",
    "\n",
    "$\\qquad d = 2x_1 + x_2x_3^2 + e^{x_4} + 5x_5x_6 + 3\\sin(2\\pi x_6) + \\alpha\\epsilon$  \n",
    "    \n",
    "where $\\epsilon$ is added normally distributed noise and $\\alpha$ is a parameter controlling the size of the added noise. Variables $x_1,...,x_4$ are normally distrubuted with zero mean and unit variance, whereas $x_5, x_6$ are uniformly distributed ($[0,1]$). The target value $d$ has a non-linear dependence on ***x***.\n",
    "\n",
    "\n",
    "# Tasks\n",
    "\n",
    "## Task 1\n",
    "Use 250 data points for training and about 1000 for validation and **no** added noise. Train an MLP to predict the target output. If you increase the complexity of the model (e.g. number of hidden nodes) you should be able to reach a very small training error. You will also most likely see that the validation error decreases as you increase the complexity or at least no clear sign of overtraining. \n",
    "\n",
    "**Note:** As with previous examples you may need to tune the optimization parameters to make sure that you have \"optimal\" training. That is, increase or decrease the learningrate, possibly train longer times (increase *epochs*) and change the *batch_size* parameter.\n",
    "\n",
    "**TODO:** Even though the validation error is most likely still larger than the training error why do we not see any overtraining of the model? (Hint: What is it that typically causes overfitting?)\n",
    "\n",
    "## Task 2\n",
    "Use the same training and validation data sets as above, but add 0.4 units of noise (set the second parameter when calling the *regr1* function to 0.4 for both training and validation). Now train again, starting with a \"small\" model and increase the number of hidden nodes as you monitor the validation result for each model. Make a note of the validation error you obtained a this point!\n",
    "\n",
    "**TODO:** How many nodes do you have for opitimal validation performance, i.e. more hidden nodes results in overtraining?\n",
    "\n",
    "## Task 3\n",
    "Instead of using the number of hidden nodes to control the complexity it is often better to use a regularization term added to the error function. You are now going to control the complexity by adding a *L2* regularizer (see the \"INPUT\" dictionary in the cell). You should modify this value until you find the \"near optimal\" validation performance. Use 15 hidden nodes. \n",
    "\n",
    "**TODO:** Give the L2 value that you found to give \"optimal\" validation performance and compare with the result from  question 7 (optimal performance).\n",
    "\n",
    "## Task 4\n",
    "**TODO:** Summarize your findings in a few sentences.\n"
   ]
  },
  {
   "cell_type": "markdown",
   "metadata": {},
   "source": [
    "# Code"
   ]
  },
  {
   "cell_type": "markdown",
   "metadata": {},
   "source": [
    "The following code allows us to edit imported files without restarting the kernel for the notebook"
   ]
  },
  {
   "cell_type": "code",
   "execution_count": 1,
   "metadata": {},
   "outputs": [],
   "source": [
    "%load_ext autoreload\n",
    "%autoreload 2\n",
    "\n",
    "# Hacky solution to access the global utils package\n",
    "import sys,os\n",
    "sys.path.append(os.path.dirname(os.path.realpath('')))"
   ]
  },
  {
   "cell_type": "code",
   "execution_count": 2,
   "metadata": {},
   "outputs": [],
   "source": [
    "import numpy as np\n",
    "import matplotlib.pyplot as plt\n",
    "import torch\n",
    "import pytorch_lightning as pl\n",
    "from config import LabConfig\n",
    "from dataset import MLPData\n",
    "from utils.model import Model\n",
    "from utils.progressbar import LitProgressBar\n",
    "from utils.model import Model\n",
    "from torch.utils.data import TensorDataset, DataLoader\n",
    "from utils import (\n",
    "    plot,\n",
    "    progressbar\n",
    ") "
   ]
  },
  {
   "cell_type": "code",
   "execution_count": 3,
   "metadata": {},
   "outputs": [],
   "source": [
    "cfg = LabConfig()"
   ]
  },
  {
   "cell_type": "markdown",
   "metadata": {},
   "source": [
    "# Defining the MLP model\n",
    "\n",
    "This cell defines the MLP model. There are a number of parameters that is needed to \n",
    "define a model. Here is a list of them: **Note:** They can all be specified when you call\n",
    "this function in later cells. The ones specified in this cell are the default values.\n"
   ]
  },
  {
   "cell_type": "code",
   "execution_count": 4,
   "metadata": {},
   "outputs": [],
   "source": [
    "class MLP(torch.nn.Module):\n",
    "    def __init__(self, \n",
    "                inp_dim=None,         \n",
    "                hidden_nodes=1, # number of nodes in hidden layer\n",
    "                num_out=None,\n",
    "                **kwargs\n",
    "            ):\n",
    "        super(MLP, self).__init__()\n",
    "        self.fc1 = torch.nn.Linear(inp_dim, hidden_nodes)\n",
    "        self.relu = torch.nn.ReLU()\n",
    "        self.fc2 = torch.nn.Linear(hidden_nodes, num_out)\n",
    "\n",
    "\n",
    "    def forward(self, x):\n",
    "        hidden = self.fc1(x)\n",
    "        relu = self.relu(hidden)\n",
    "        output = self.fc2(relu)\n",
    "        return torch.sigmoid(output)"
   ]
  },
  {
   "cell_type": "markdown",
   "metadata": {},
   "source": [
    "## Define a function that allow us to convert numpy to pytorch DataLoader"
   ]
  },
  {
   "cell_type": "code",
   "execution_count": 5,
   "metadata": {},
   "outputs": [],
   "source": [
    "def numpy2Dataloader(x,y, batch_size=50, num_workers=10,**kwargs):\n",
    "    return DataLoader(\n",
    "        TensorDataset(\n",
    "            torch.from_numpy(x).float(), \n",
    "            torch.from_numpy(y).unsqueeze(1).float()\n",
    "        ),\n",
    "        batch_size=batch_size,\n",
    "        num_workers=num_workers,\n",
    "        **kwargs\n",
    "    )"
   ]
  },
  {
   "cell_type": "code",
   "execution_count": 6,
   "metadata": {},
   "outputs": [
    {
     "name": "stderr",
     "output_type": "stream",
     "text": [
      "C:\\Users\\moa_a\\anaconda3\\lib\\site-packages\\torch\\utils\\data\\dataloader.py:478: UserWarning: This DataLoader will create 10 worker processes in total. Our suggested max number of worker in current system is 8 (`cpuset` is not taken into account), which is smaller than what this DataLoader is going to create. Please be aware that excessive worker creation might get DataLoader running slow or even freeze, lower the worker number to avoid potential slowness/freeze if necessary.\n",
      "  warnings.warn(_create_warning_msg(\n"
     ]
    }
   ],
   "source": [
    "# Generate training and validation data\n",
    "#x_train, d_train = MLPData.regr1(250, 0.0) # 250 data points with no noise\n",
    "#x_val, d_val = MLPData.regr1(1000, 0.0)\n",
    "\n",
    "x_train, d_train = MLPData.regr1(250, 0.4) # 250 data points with little noise\n",
    "x_val, d_val = MLPData.regr1(1000, 0.4)\n",
    "\n",
    "# Here we need to normalize the target values\n",
    "norm_m = d_train.mean(axis=0)\n",
    "norm_s = d_train.std(axis=0)\n",
    "d_train = (d_train - norm_m) / norm_s\n",
    "\n",
    "# We use the same normalization for the validation data.\n",
    "d_val = (d_val - norm_m) / norm_s\n",
    "\n",
    "train_loader = numpy2Dataloader(x_train,d_train)\n",
    "val_loader =  numpy2Dataloader(x_val,d_val)"
   ]
  },
  {
   "cell_type": "markdown",
   "metadata": {},
   "source": [
    "## Configuration\n",
    "Setup our local config that should be used for the trainer."
   ]
  },
  {
   "cell_type": "code",
   "execution_count": 7,
   "metadata": {},
   "outputs": [],
   "source": [
    "config = {\n",
    "    'max_epochs':10,\n",
    "    'model_params':{\n",
    "        'inp_dim':x_train.shape[1],         \n",
    "        'hidden_nodes':4,   # activation functions for the hidden layer\n",
    "        'lambd' : 0.5, # L2 PARAMETER\n",
    "        'num_out':1 # if binary --> 1 |  regression--> num inputs | multi-class--> num of classes\n",
    "    },\n",
    "    'criterion':torch.nn.MSELoss(), # error function\n",
    "    'optimizer':{\n",
    "        \"type\":torch.optim.Adam,\n",
    "        \"args\":{\n",
    "            \"lr\":0.01,\n",
    "        }\n",
    "    }\n",
    "}"
   ]
  },
  {
   "cell_type": "markdown",
   "metadata": {},
   "source": [
    "## Training"
   ]
  },
  {
   "cell_type": "markdown",
   "metadata": {},
   "source": [
    "Lastly, put everything together and call on the trainers fit method. "
   ]
  },
  {
   "cell_type": "code",
   "execution_count": 8,
   "metadata": {},
   "outputs": [
    {
     "name": "stderr",
     "output_type": "stream",
     "text": [
      "C:\\Users\\moa_a\\anaconda3\\lib\\site-packages\\pytorch_lightning\\trainer\\connectors\\callback_connector.py:90: LightningDeprecationWarning: Setting `Trainer(progress_bar_refresh_rate=1)` is deprecated in v1.5 and will be removed in v1.7. Please pass `pytorch_lightning.callbacks.progress.TQDMProgressBar` with `refresh_rate` directly to the Trainer's `callbacks` argument instead. Or, to disable the progress bar pass `enable_progress_bar = False` to the Trainer.\n",
      "  rank_zero_deprecation(\n",
      "C:\\Users\\moa_a\\anaconda3\\lib\\site-packages\\pytorch_lightning\\trainer\\connectors\\callback_connector.py:167: LightningDeprecationWarning: Setting `Trainer(weights_summary=None)` is deprecated in v1.5 and will be removed in v1.7. Please set `Trainer(enable_model_summary=False)` instead.\n",
      "  rank_zero_deprecation(\n",
      "GPU available: False, used: False\n",
      "TPU available: False, using: 0 TPU cores\n",
      "IPU available: False, using: 0 IPUs\n",
      "C:\\Users\\moa_a\\anaconda3\\lib\\site-packages\\pytorch_lightning\\trainer\\trainer.py:730: LightningDeprecationWarning: `trainer.fit(train_dataloader)` is deprecated in v1.4 and will be removed in v1.6. Use `trainer.fit(train_dataloaders)` instead. HINT: added 's'\n",
      "  rank_zero_deprecation(\n",
      "C:\\Users\\moa_a\\anaconda3\\lib\\site-packages\\pytorch_lightning\\trainer\\data_loading.py:394: UserWarning: The number of training samples (5) is smaller than the logging interval Trainer(log_every_n_steps=50). Set a lower value for log_every_n_steps if you want to see logs for the training epoch.\n",
      "  rank_zero_warn(\n"
     ]
    },
    {
     "name": "stdout",
     "output_type": "stream",
     "text": [
      "Epoch 1 [4/5] {'loss': '1.23'}\r"
     ]
    },
    {
     "name": "stderr",
     "output_type": "stream",
     "text": [
      "C:\\Users\\moa_a\\anaconda3\\lib\\site-packages\\pytorch_lightning\\trainer\\trainer.py:1805: LightningDeprecationWarning: `trainer.progress_bar_dict` is deprecated in v1.5 and will be removed in v1.7. Use `ProgressBarBase.get_metrics` instead.\n",
      "  rank_zero_deprecation(\n"
     ]
    },
    {
     "name": "stdout",
     "output_type": "stream",
     "text": [
      "Epoch 10 [5/5] {'loss': '0.862'}\r"
     ]
    }
   ],
   "source": [
    "model = Model(MLP(**config[\"model_params\"]),**config)\n",
    "\n",
    "trainer = pl.Trainer(\n",
    "            max_epochs=config['max_epochs'], \n",
    "            gpus=cfg.GPU,\n",
    "            logger=pl.loggers.TensorBoardLogger(save_dir=cfg.TENSORBORD_DIR),\n",
    "            callbacks=[LitProgressBar()],\n",
    "            progress_bar_refresh_rate=1,\n",
    "            weights_summary=None, # Can be None, top or full\n",
    "            num_sanity_val_steps=10,   \n",
    "        )\n",
    "trainer.fit(\n",
    "    model, \n",
    "    train_dataloader=train_loader,\n",
    "    val_dataloaders=val_loader\n",
    ");"
   ]
  },
  {
   "cell_type": "markdown",
   "metadata": {},
   "source": [
    "## Evaluation"
   ]
  },
  {
   "cell_type": "code",
   "execution_count": 9,
   "metadata": {},
   "outputs": [
    {
     "ename": "ValueError",
     "evalue": "No False Positive cant be zero",
     "output_type": "error",
     "traceback": [
      "\u001b[1;31m---------------------------------------------------------------------------\u001b[0m",
      "\u001b[1;31mValueError\u001b[0m                                Traceback (most recent call last)",
      "\u001b[1;32m~\\AppData\\Local\\Temp/ipykernel_20572/2122589188.py\u001b[0m in \u001b[0;36m<module>\u001b[1;34m\u001b[0m\n\u001b[1;32m----> 1\u001b[1;33m \u001b[0mplot\u001b[0m\u001b[1;33m.\u001b[0m\u001b[0mstats_class\u001b[0m\u001b[1;33m(\u001b[0m\u001b[0mx_train\u001b[0m\u001b[1;33m,\u001b[0m \u001b[0md_train\u001b[0m\u001b[1;33m,\u001b[0m \u001b[1;34m'Training'\u001b[0m\u001b[1;33m,\u001b[0m \u001b[0mmodel\u001b[0m\u001b[1;33m)\u001b[0m\u001b[1;33m\u001b[0m\u001b[1;33m\u001b[0m\u001b[0m\n\u001b[0m\u001b[0;32m      2\u001b[0m \u001b[0mplot\u001b[0m\u001b[1;33m.\u001b[0m\u001b[0mstats_class\u001b[0m\u001b[1;33m(\u001b[0m\u001b[0mx_val\u001b[0m\u001b[1;33m,\u001b[0m \u001b[0md_val\u001b[0m\u001b[1;33m,\u001b[0m \u001b[1;34m'Validation'\u001b[0m\u001b[1;33m,\u001b[0m \u001b[0mmodel\u001b[0m\u001b[1;33m)\u001b[0m\u001b[1;33m\u001b[0m\u001b[1;33m\u001b[0m\u001b[0m\n",
      "\u001b[1;32m~\\OneDrive\\Dokument\\Deep Learning\\ArtificialFlyingObjects-master\\utils\\plot.py\u001b[0m in \u001b[0;36mstats_class\u001b[1;34m(x, y, label, model)\u001b[0m\n\u001b[0;32m    195\u001b[0m \u001b[1;33m\u001b[0m\u001b[0m\n\u001b[0;32m    196\u001b[0m     \u001b[1;32mif\u001b[0m \u001b[0mnof_p\u001b[0m \u001b[1;33m==\u001b[0m \u001b[1;36m0\u001b[0m\u001b[1;33m:\u001b[0m\u001b[1;33m\u001b[0m\u001b[1;33m\u001b[0m\u001b[0m\n\u001b[1;32m--> 197\u001b[1;33m         \u001b[1;32mraise\u001b[0m \u001b[0mValueError\u001b[0m\u001b[1;33m(\u001b[0m\u001b[1;34m\"No False Positive cant be zero\"\u001b[0m\u001b[1;33m)\u001b[0m\u001b[1;33m\u001b[0m\u001b[1;33m\u001b[0m\u001b[0m\n\u001b[0m\u001b[0;32m    198\u001b[0m \u001b[1;33m\u001b[0m\u001b[0m\n\u001b[0;32m    199\u001b[0m     \u001b[1;32mif\u001b[0m \u001b[0mnof_n\u001b[0m \u001b[1;33m==\u001b[0m \u001b[1;36m0\u001b[0m\u001b[1;33m:\u001b[0m\u001b[1;33m\u001b[0m\u001b[1;33m\u001b[0m\u001b[0m\n",
      "\u001b[1;31mValueError\u001b[0m: No False Positive cant be zero"
     ]
    }
   ],
   "source": [
    "plot.stats_class(x_train, d_train, 'Training', model)\n",
    "plot.stats_class(x_val, d_val, 'Validation', model)"
   ]
  },
  {
   "cell_type": "code",
   "execution_count": 10,
   "metadata": {},
   "outputs": [
    {
     "data": {
      "text/plain": [
       "array([ 7.67127593e-01,  6.12783749e+00, -1.36222303e-01, -3.34295857e-02,\n",
       "       -4.15528259e-01,  5.72136784e-01, -1.09596494e-01, -8.89268621e-01,\n",
       "        4.62272863e-01, -8.19369923e-01,  2.93450297e-01, -1.40479313e+00,\n",
       "       -9.30521833e-01,  7.27628823e-01, -6.85953769e-01, -3.19571638e-01,\n",
       "       -4.46777922e-01,  8.44287195e-01, -6.83671687e-02, -1.55075056e+00,\n",
       "        2.27332651e+00, -3.15640303e-01,  8.18190984e-01,  2.89161235e-01,\n",
       "       -6.28102343e-02,  1.59195411e+00, -1.05826182e-01, -9.29310288e-01,\n",
       "        2.22420653e-02,  4.11630699e-02, -5.02514568e-01, -1.65144749e+00,\n",
       "       -1.06270058e+00, -3.85733723e-01, -4.62979754e-01, -2.76159293e-01,\n",
       "        5.74889030e-02,  2.66892271e-02,  1.67589326e+00,  1.46430602e+00,\n",
       "        1.20288225e-01, -5.35459140e-01, -1.58211612e+00,  4.41550260e-02,\n",
       "        2.65863420e-01, -9.37352374e-01, -1.00068738e-01, -4.16913819e-01,\n",
       "       -4.51936373e-01, -9.21355995e-01, -9.21890919e-01, -4.80517172e-01,\n",
       "       -7.92093842e-01,  1.18152213e+00,  6.11445035e-01, -3.07243129e-01,\n",
       "        3.93980334e-01, -1.08732266e-01, -1.58563035e+00,  9.24385515e-01,\n",
       "       -4.54126536e-01,  7.54091086e-01, -5.85731724e-01, -8.72171718e-01,\n",
       "       -5.44550310e-01,  4.04065342e-02,  2.45618056e+00,  5.25261103e-01,\n",
       "       -5.12665582e-01,  2.26783216e-01, -2.91269226e-01, -1.95975224e-02,\n",
       "        1.50334531e+00, -8.14326266e-01, -1.37103811e+00,  3.79948396e-01,\n",
       "       -1.32030298e-01, -1.10637277e+00, -1.35663614e+00, -4.56671893e-01,\n",
       "        2.40039455e-01, -1.08352340e+00,  8.36316463e-02,  6.80391614e-01,\n",
       "        1.57005852e-01,  1.95146213e+00, -3.58842503e-01,  1.19875083e+00,\n",
       "        1.21352616e+00, -1.15704797e+00, -4.91419153e-02,  1.54478625e-01,\n",
       "       -9.73891348e-01, -7.50017793e-01,  1.88063786e-02, -2.99749701e-01,\n",
       "       -6.56358848e-01,  3.85353562e-01, -4.08694384e-01,  4.09070817e-01,\n",
       "       -1.64582168e+00, -2.09682335e+00, -9.16427329e-01, -1.01521317e+00,\n",
       "       -9.92019012e-01, -1.04856904e+00,  8.32426763e-02,  8.20640531e-02,\n",
       "        1.50169747e+00, -1.29857009e+00,  1.06837601e+00,  2.53603462e-01,\n",
       "       -1.03611894e+00, -7.26001285e-01, -1.32247714e+00,  2.17259586e-01,\n",
       "        7.64845084e-01, -2.12591719e-01,  1.16603172e+00, -1.05374365e+00,\n",
       "        6.08413579e-01, -1.39118416e+00, -5.76014417e-01,  1.96376125e-01,\n",
       "        4.68127781e-01,  5.32199249e-01,  6.80040944e-01,  7.74777963e-01,\n",
       "        2.45028072e-03, -2.96958759e-01, -2.34582134e-01, -4.57586068e-01,\n",
       "       -1.70140749e-01,  5.77993805e-01,  2.54343219e+00, -2.97445294e-01,\n",
       "        2.01788192e-01, -1.04143930e+00,  4.65551221e-01,  3.33572885e-01,\n",
       "        7.42051483e-01,  1.49418004e-01,  8.30221446e-01,  1.79458026e+00,\n",
       "        5.16857821e-01, -9.46799679e-02, -2.08610285e+00, -2.52621378e-01,\n",
       "       -1.42126038e+00, -4.58010790e-01, -7.00102358e-01,  2.51450790e+00,\n",
       "       -1.63454005e+00,  6.16862519e-01, -3.77581750e-01,  6.71638777e-01,\n",
       "       -1.87210834e-01,  4.24265030e-01, -1.08957588e+00,  2.16675426e-01,\n",
       "       -1.25347189e+00, -5.87818449e-01,  6.06680563e-01,  2.27348869e+00,\n",
       "       -5.67667396e-01,  4.36655508e-01, -1.38598153e+00, -8.68379613e-01,\n",
       "        6.05628243e-02, -9.36963548e-01,  9.33499247e-01,  2.04972920e+00,\n",
       "       -5.98432596e-01, -1.36313462e+00,  6.91128938e-01, -8.54667826e-02,\n",
       "        8.34455562e-01,  3.68505573e-01,  5.71436678e-01, -8.45215361e-02,\n",
       "        1.16519982e-01,  1.88794686e-01,  4.33003442e-01,  1.58153267e+00,\n",
       "        1.12132315e+00, -1.10755389e+00,  1.31526800e+00,  1.68073572e+00,\n",
       "        6.16969646e-03,  1.15271302e+00,  3.56407527e+00, -9.03840965e-01,\n",
       "       -2.13648745e-01,  2.08935463e-02, -2.66874714e-01, -4.02476930e-02,\n",
       "       -6.60253453e-01,  6.70787307e-01,  8.37385610e-01, -1.33903033e+00,\n",
       "       -5.04364050e-03, -6.52120588e-01,  4.06132425e-01, -1.07667728e+00,\n",
       "        2.84572651e-01,  3.42714308e-01, -1.56564489e-01, -3.57847656e-01,\n",
       "        3.37178679e-01, -2.43212510e-01,  8.52623255e-01,  2.45934769e-01,\n",
       "        4.56277620e-01,  4.52843216e-01, -1.07415483e+00, -7.79778294e-02,\n",
       "       -3.91634554e-01,  9.60195199e-01, -8.95961451e-01,  3.91738488e-01,\n",
       "       -7.19991104e-01,  1.61327520e-01,  1.05479201e+00,  5.33890495e-01,\n",
       "       -1.16588702e+00, -6.66498526e-01,  2.12490209e-01, -1.33996486e+00,\n",
       "        1.09835012e+00, -1.63115522e+00,  1.27033471e+00,  4.96735984e-02,\n",
       "       -8.85570283e-02,  5.94562398e-01,  6.85613588e-01, -1.73902723e-01,\n",
       "        4.82857398e-01, -5.04455453e-01,  1.33675713e-01, -4.99121655e-01,\n",
       "       -1.02366915e+00,  9.14035606e-01, -5.24394931e-01,  7.54813953e-01,\n",
       "       -9.80831758e-01,  1.39062034e+00, -4.26480212e-01,  1.76718168e+00,\n",
       "        1.17924870e-01, -2.41010651e+00])"
      ]
     },
     "execution_count": 10,
     "metadata": {},
     "output_type": "execute_result"
    }
   ],
   "source": [
    "d_train"
   ]
  }
 ],
 "metadata": {
  "interpreter": {
   "hash": "4ccf88e37874d44b4dfe33c31e1bb4a10ca4e414e0a68744582aebd290f71bcd"
  },
  "kernelspec": {
   "display_name": "Python 3",
   "language": "python",
   "name": "python3"
  },
  "language_info": {
   "codemirror_mode": {
    "name": "ipython",
    "version": 3
   },
   "file_extension": ".py",
   "mimetype": "text/x-python",
   "name": "python",
   "nbconvert_exporter": "python",
   "pygments_lexer": "ipython3",
   "version": "3.8.12"
  }
 },
 "nbformat": 4,
 "nbformat_minor": 4
}
